{
 "cells": [
  {
   "cell_type": "markdown",
   "id": "62edc870-4ab7-407c-beb8-5dd283bc59bb",
   "metadata": {},
   "source": [
    "# Data Science Tools and Ecosystem"
   ]
  },
  {
   "cell_type": "markdown",
   "id": "790941b9-b5b9-4789-a271-077021868b69",
   "metadata": {},
   "source": [
    "## Author\n",
    "\n",
    "Luis Roberto Hernández Gutiérrez"
   ]
  },
  {
   "cell_type": "markdown",
   "id": "bf9ad12c-8bae-4758-abe3-fc72fa4d44b7",
   "metadata": {},
   "source": [
    "In this notebook, Data Science Tools and Ecosystem are summarized."
   ]
  },
  {
   "cell_type": "markdown",
   "id": "437e1d41-31d5-4c94-96d4-14253e72d9da",
   "metadata": {},
   "source": [
    "In this notebook, Data Science Tools and Ecosystem are summarized."
   ]
  },
  {
   "cell_type": "markdown",
   "id": "512d306e-90bf-4354-a591-a8387544c6bb",
   "metadata": {},
   "source": [
    "**Objectives:**\n",
    "- List popular languages for Data Science\n",
    "- List of some of the commonly used libraries used by Data Scientists\n",
    "- Examples of evaluating arithmetic expressions in Python"
   ]
  },
  {
   "cell_type": "markdown",
   "id": "8f08787f-ce6f-4ac3-9a1e-4b35f4326dc7",
   "metadata": {},
   "source": [
    "Some of the popular languages that Data Scientists use are:"
   ]
  },
  {
   "cell_type": "markdown",
   "id": "7ffc07a9-9d70-4430-aed8-fea427268def",
   "metadata": {},
   "source": [
    "1. Python\n",
    "2. R\n",
    "3. SQL"
   ]
  },
  {
   "cell_type": "markdown",
   "id": "dac4c1e0-8ea9-4be5-b0c4-f4ae93b66c72",
   "metadata": {},
   "source": [
    "Some of the commonly used libraries used by Data Scientists include:"
   ]
  },
  {
   "cell_type": "markdown",
   "id": "2b3fa5a3-d626-4fb5-a6ae-32ea501a85b0",
   "metadata": {},
   "source": [
    "1. Pandas\n",
    "2. TensorFLow\n",
    "3. Keras"
   ]
  },
  {
   "cell_type": "markdown",
   "id": "df8eaf8e-3e9e-444a-9e0f-25f2b5cebed6",
   "metadata": {},
   "source": [
    "Data Science Tools"
   ]
  },
  {
   "cell_type": "markdown",
   "id": "a94f47a3-844a-4034-8215-3ca79bfb9d78",
   "metadata": {},
   "source": [
    "|Fruits | \n",
    "| ------ |\n",
    "| RStudio |\n",
    "|Jupyter Lab |\n",
    "| Apache Zeppelin |"
   ]
  },
  {
   "cell_type": "markdown",
   "id": "b23e89d0-5b61-4721-8b75-d2e838c14687",
   "metadata": {},
   "source": [
    "### Below are a few examples of evaluating arithmetic expressions in Python"
   ]
  },
  {
   "cell_type": "markdown",
   "id": "a7d0a11e-a51b-40b5-a4a7-1143faa92ac4",
   "metadata": {},
   "source": [
    "This a simple arithmetic expression to mutiply then add integers"
   ]
  },
  {
   "cell_type": "code",
   "execution_count": 3,
   "id": "3d35f20a-1e6a-44fc-9fae-1a0adc4790cd",
   "metadata": {},
   "outputs": [
    {
     "data": {
      "text/plain": [
       "17"
      ]
     },
     "execution_count": 3,
     "metadata": {},
     "output_type": "execute_result"
    }
   ],
   "source": [
    "(3*4)+5"
   ]
  },
  {
   "cell_type": "markdown",
   "id": "7a257789-010b-422b-9957-b2de9244bfc7",
   "metadata": {},
   "source": [
    "This will convert 200 minutes to hours by diving by 60"
   ]
  },
  {
   "cell_type": "code",
   "execution_count": 4,
   "id": "20f23acb-7276-4176-8d44-3dc5b55c1ed8",
   "metadata": {},
   "outputs": [
    {
     "data": {
      "text/plain": [
       "3.3333333333333335"
      ]
     },
     "execution_count": 4,
     "metadata": {},
     "output_type": "execute_result"
    }
   ],
   "source": [
    "200/60"
   ]
  }
 ],
 "metadata": {
  "kernelspec": {
   "display_name": "Python 3 (ipykernel)",
   "language": "python",
   "name": "python3"
  },
  "language_info": {
   "codemirror_mode": {
    "name": "ipython",
    "version": 3
   },
   "file_extension": ".py",
   "mimetype": "text/x-python",
   "name": "python",
   "nbconvert_exporter": "python",
   "pygments_lexer": "ipython3",
   "version": "3.12.3"
  }
 },
 "nbformat": 4,
 "nbformat_minor": 5
}
